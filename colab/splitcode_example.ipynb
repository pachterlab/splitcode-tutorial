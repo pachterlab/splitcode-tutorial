{
  "nbformat": 4,
  "nbformat_minor": 0,
  "metadata": {
    "colab": {
      "provenance": []
    },
    "kernelspec": {
      "name": "python3",
      "display_name": "Python 3"
    },
    "language_info": {
      "name": "python"
    }
  },
  "cells": [
    {
      "cell_type": "markdown",
      "source": [
        "# Install splitcode"
      ],
      "metadata": {
        "id": "bF1cCwupDt3Z"
      }
    },
    {
      "cell_type": "code",
      "execution_count": 1,
      "metadata": {
        "colab": {
          "base_uri": "https://localhost:8080/"
        },
        "id": "S_nPlPEXDmH6",
        "outputId": "722a7ad7-ee9b-4c6b-8eec-70719b69d6fe"
      },
      "outputs": [
        {
          "output_type": "stream",
          "name": "stdout",
          "text": [
            "Cloning into 'splitcode'...\n",
            "remote: Enumerating objects: 2733, done.\u001b[K\n",
            "remote: Counting objects: 100% (130/130), done.\u001b[K\n",
            "remote: Compressing objects: 100% (103/103), done.\u001b[K\n",
            "remote: Total 2733 (delta 64), reused 45 (delta 25), pack-reused 2603\u001b[K\n",
            "Receiving objects: 100% (2733/2733), 15.71 MiB | 16.84 MiB/s, done.\n",
            "Resolving deltas: 100% (1489/1489), done.\n",
            "\u001b[0mCMake Deprecation Warning at CMakeLists.txt:1 (cmake_minimum_required):\n",
            "  Compatibility with CMake < 3.5 will be removed from a future version of\n",
            "  CMake.\n",
            "\n",
            "  Update the VERSION argument <min> value or use a ...<max> suffix to tell\n",
            "  CMake that the project does not need compatibility with older versions.\n",
            "\n",
            "\u001b[0m\n",
            "-- The C compiler identification is GNU 11.4.0\n",
            "-- The CXX compiler identification is GNU 11.4.0\n",
            "-- Detecting C compiler ABI info\n",
            "-- Detecting C compiler ABI info - done\n",
            "-- Check for working C compiler: /usr/bin/cc - skipped\n",
            "-- Detecting C compile features\n",
            "-- Detecting C compile features - done\n",
            "-- Detecting CXX compiler ABI info\n",
            "-- Detecting CXX compiler ABI info - done\n",
            "-- Check for working CXX compiler: /usr/bin/c++ - skipped\n",
            "-- Detecting CXX compile features\n",
            "-- Detecting CXX compile features - done\n",
            "\u001b[0mshared build\u001b[0m\n",
            "-- Performing Test CMAKE_HAVE_LIBC_PTHREAD\n",
            "-- Performing Test CMAKE_HAVE_LIBC_PTHREAD - Success\n",
            "-- Found Threads: TRUE  \n",
            "-- Found ZLIB: /usr/lib/x86_64-linux-gnu/libz.so (found version \"1.2.11\")  \n",
            "\u001b[0musing htslib\u001b[0m\n",
            "-- Configuring done (3.1s)\n",
            "-- Generating done (0.0s)\n",
            "-- Build files have been written to: /content/splitcode/build\n",
            "[  7%] \u001b[34m\u001b[1mCreating directories for 'htslib'\u001b[0m\n",
            "[ 15%] \u001b[34m\u001b[1mNo download step for 'htslib'\u001b[0m\n",
            "[ 23%] \u001b[34m\u001b[1mNo update step for 'htslib'\u001b[0m\n",
            "[ 30%] \u001b[34m\u001b[1mNo patch step for 'htslib'\u001b[0m\n",
            "[ 38%] \u001b[34m\u001b[1mNo configure step for 'htslib'\u001b[0m\n",
            "[ 46%] \u001b[34m\u001b[1mPerforming build step for 'htslib'\u001b[0m\n",
            "\u001b[01m\u001b[Kbgzf.c:\u001b[m\u001b[K In function ‘\u001b[01m\u001b[Kbgzf_write\u001b[m\u001b[K’:\n",
            "\u001b[01m\u001b[Kbgzf.c:733:5:\u001b[m\u001b[K \u001b[01;35m\u001b[Kwarning: \u001b[m\u001b[Kthis ‘\u001b[01m\u001b[Kif\u001b[m\u001b[K’ clause does not guard... [\u001b[01;35m\u001b[K\u001b]8;;https://gcc.gnu.org/onlinedocs/gcc/Warning-Options.html#index-Wmisleading-indentation\u0007-Wmisleading-indentation\u001b]8;;\u0007\u001b[m\u001b[K]\n",
            "  733 |     \u001b[01;35m\u001b[Kif\u001b[m\u001b[K ( !fp->is_compressed )\n",
            "      |     \u001b[01;35m\u001b[K^~\u001b[m\u001b[K\n",
            "\u001b[01m\u001b[Kbgzf.c:736:9:\u001b[m\u001b[K \u001b[01;36m\u001b[Knote: \u001b[m\u001b[K...this statement, but the latter is misleadingly indented as if it were guarded by the ‘\u001b[01m\u001b[Kif\u001b[m\u001b[K’\n",
            "  736 |         \u001b[01;36m\u001b[Kconst\u001b[m\u001b[K uint8_t *input = (const uint8_t*)data;\n",
            "      |         \u001b[01;36m\u001b[K^~~~~\u001b[m\u001b[K\n",
            "\u001b[01m\u001b[Kfaidx.c:\u001b[m\u001b[K In function ‘\u001b[01m\u001b[Kfai_load\u001b[m\u001b[K’:\n",
            "\u001b[01m\u001b[Kfaidx.c:265:5:\u001b[m\u001b[K \u001b[01;35m\u001b[Kwarning: \u001b[m\u001b[Kthis ‘\u001b[01m\u001b[Kelse\u001b[m\u001b[K’ clause does not guard... [\u001b[01;35m\u001b[K\u001b]8;;https://gcc.gnu.org/onlinedocs/gcc/Warning-Options.html#index-Wmisleading-indentation\u0007-Wmisleading-indentation\u001b]8;;\u0007\u001b[m\u001b[K]\n",
            "  265 |     \u001b[01;35m\u001b[Kelse\u001b[m\u001b[K\n",
            "      |     \u001b[01;35m\u001b[K^~~~\u001b[m\u001b[K\n",
            "\u001b[01m\u001b[Kfaidx.c:268:9:\u001b[m\u001b[K \u001b[01;36m\u001b[Knote: \u001b[m\u001b[K...this statement, but the latter is misleadingly indented as if it were guarded by the ‘\u001b[01m\u001b[Kelse\u001b[m\u001b[K’\n",
            "  268 |         \u001b[01;36m\u001b[Kif\u001b[m\u001b[K (fp == 0) {\n",
            "      |         \u001b[01;36m\u001b[K^~\u001b[m\u001b[K\n",
            "\u001b[01m\u001b[Khts.c:\u001b[m\u001b[K In function ‘\u001b[01m\u001b[Khts_idx_init\u001b[m\u001b[K’:\n",
            "\u001b[01m\u001b[Khts.c:522:63:\u001b[m\u001b[K \u001b[01;35m\u001b[Kwarning: \u001b[m\u001b[Koverflow in conversion from ‘\u001b[01m\u001b[Kuint32_t\u001b[m\u001b[K’ {aka ‘\u001b[01m\u001b[Kunsigned int\u001b[m\u001b[K’} to ‘\u001b[01m\u001b[Kint\u001b[m\u001b[K’ changes value from ‘\u001b[01m\u001b[Kidx->z.last_bin = 4294967295\u001b[m\u001b[K’ to ‘\u001b[01m\u001b[K-1\u001b[m\u001b[K’ [\u001b[01;35m\u001b[K\u001b]8;;https://gcc.gnu.org/onlinedocs/gcc/Warning-Options.html#index-Woverflow\u0007-Woverflow\u001b]8;;\u0007\u001b[m\u001b[K]\n",
            "  522 |         idx->z.save_bin = idx->z.save_tid = idx->z.last_tid = \u001b[01;35m\u001b[Kidx\u001b[m\u001b[K->z.last_bin = 0xffffffffu;\n",
            "      |                                                               \u001b[01;35m\u001b[K^~~\u001b[m\u001b[K\n",
            "In file included from \u001b[01m\u001b[K/usr/include/string.h:535\u001b[m\u001b[K,\n",
            "                 from \u001b[01m\u001b[Ksam.c:3\u001b[m\u001b[K:\n",
            "In function ‘\u001b[01m\u001b[Kstrncpy\u001b[m\u001b[K’,\n",
            "    inlined from ‘\u001b[01m\u001b[Kbam_hdr_write\u001b[m\u001b[K’ at \u001b[01m\u001b[Ksam.c:130:2\u001b[m\u001b[K:\n",
            "\u001b[01m\u001b[K/usr/include/x86_64-linux-gnu/bits/string_fortified.h:95:10:\u001b[m\u001b[K \u001b[01;35m\u001b[Kwarning: \u001b[m\u001b[K‘\u001b[01m\u001b[K__builtin_strncpy\u001b[m\u001b[K’ output truncated before terminating nul copying 4 bytes from a string of the same length [\u001b[01;35m\u001b[K\u001b]8;;https://gcc.gnu.org/onlinedocs/gcc/Warning-Options.html#index-Wstringop-truncation\u0007-Wstringop-truncation\u001b]8;;\u0007\u001b[m\u001b[K]\n",
            "   95 |   return \u001b[01;35m\u001b[K__builtin___strncpy_chk (__dest, __src, __len,\u001b[m\u001b[K\n",
            "      |          \u001b[01;35m\u001b[K^~~~~~~~~~~~~~~~~~~~~~~~~~~~~~~~~~~~~~~~~~~~~~\u001b[m\u001b[K\n",
            "   96 | \u001b[01;35m\u001b[K                                  __glibc_objsize (__dest))\u001b[m\u001b[K;\n",
            "      |                                   \u001b[01;35m\u001b[K~~~~~~~~~~~~~~~~~~~~~~~~~\u001b[m\u001b[K\n",
            "\u001b[01m\u001b[Ktbx.c:\u001b[m\u001b[K In function ‘\u001b[01m\u001b[Ktbx_seqnames\u001b[m\u001b[K’:\n",
            "\u001b[01m\u001b[Ktbx.c:285:5:\u001b[m\u001b[K \u001b[01;35m\u001b[Kwarning: \u001b[m\u001b[Kthis ‘\u001b[01m\u001b[Kfor\u001b[m\u001b[K’ clause does not guard... [\u001b[01;35m\u001b[K\u001b]8;;https://gcc.gnu.org/onlinedocs/gcc/Warning-Options.html#index-Wmisleading-indentation\u0007-Wmisleading-indentation\u001b]8;;\u0007\u001b[m\u001b[K]\n",
            "  285 |     \u001b[01;35m\u001b[Kfor\u001b[m\u001b[K (tid=0; tid<m; tid++)\n",
            "      |     \u001b[01;35m\u001b[K^~~\u001b[m\u001b[K\n",
            "\u001b[01m\u001b[Ktbx.c:287:9:\u001b[m\u001b[K \u001b[01;36m\u001b[Knote: \u001b[m\u001b[K...this statement, but the latter is misleadingly indented as if it were guarded by the ‘\u001b[01m\u001b[Kfor\u001b[m\u001b[K’\n",
            "  287 |         \u001b[01;36m\u001b[K*\u001b[m\u001b[Kn = m;\n",
            "      |         \u001b[01;36m\u001b[K^\u001b[m\u001b[K\n",
            "\u001b[01m\u001b[Kvcf.c:\u001b[m\u001b[K In function ‘\u001b[01m\u001b[Kvcf_format\u001b[m\u001b[K’:\n",
            "\u001b[01m\u001b[Kvcf.c:1909:25:\u001b[m\u001b[K \u001b[01;35m\u001b[Kwarning: \u001b[m\u001b[Kthis ‘\u001b[01m\u001b[Kif\u001b[m\u001b[K’ clause does not guard... [\u001b[01;35m\u001b[K\u001b]8;;https://gcc.gnu.org/onlinedocs/gcc/Warning-Options.html#index-Wmisleading-indentation\u0007-Wmisleading-indentation\u001b]8;;\u0007\u001b[m\u001b[K]\n",
            " 1909 |                         \u001b[01;35m\u001b[Kif\u001b[m\u001b[K ( !first ) kputc(';', s); first = 0;\n",
            "      |                         \u001b[01;35m\u001b[K^~\u001b[m\u001b[K\n",
            "\u001b[01m\u001b[Kvcf.c:1909:54:\u001b[m\u001b[K \u001b[01;36m\u001b[Knote: \u001b[m\u001b[K...this statement, but the latter is misleadingly indented as if it were guarded by the ‘\u001b[01m\u001b[Kif\u001b[m\u001b[K’\n",
            " 1909 |                         if ( !first ) kputc(';', s); \u001b[01;36m\u001b[Kfirst\u001b[m\u001b[K = 0;\n",
            "      |                                                      \u001b[01;36m\u001b[K^~~~~\u001b[m\u001b[K\n",
            "\u001b[01m\u001b[Kvcf.c:1948:21:\u001b[m\u001b[K \u001b[01;35m\u001b[Kwarning: \u001b[m\u001b[Kthis ‘\u001b[01m\u001b[Kif\u001b[m\u001b[K’ clause does not guard... [\u001b[01;35m\u001b[K\u001b]8;;https://gcc.gnu.org/onlinedocs/gcc/Warning-Options.html#index-Wmisleading-indentation\u0007-Wmisleading-indentation\u001b]8;;\u0007\u001b[m\u001b[K]\n",
            " 1948 |                     \u001b[01;35m\u001b[Kif\u001b[m\u001b[K (!first) kputc(':', s); first = 0;\n",
            "      |                     \u001b[01;35m\u001b[K^~\u001b[m\u001b[K\n",
            "\u001b[01m\u001b[Kvcf.c:1948:48:\u001b[m\u001b[K \u001b[01;36m\u001b[Knote: \u001b[m\u001b[K...this statement, but the latter is misleadingly indented as if it were guarded by the ‘\u001b[01m\u001b[Kif\u001b[m\u001b[K’\n",
            " 1948 |                     if (!first) kputc(':', s); \u001b[01;36m\u001b[Kfirst\u001b[m\u001b[K = 0;\n",
            "      |                                                \u001b[01;36m\u001b[K^~~~~\u001b[m\u001b[K\n",
            "In file included from \u001b[01m\u001b[Khtslib/vcf.h:12\u001b[m\u001b[K,\n",
            "                 from \u001b[01m\u001b[Khtslib/vcfutils.h:8\u001b[m\u001b[K,\n",
            "                 from \u001b[01m\u001b[Kvcfutils.c:1\u001b[m\u001b[K:\n",
            "\u001b[01m\u001b[Kvcfutils.c:\u001b[m\u001b[K In function ‘\u001b[01m\u001b[Kbcf_remove_alleles\u001b[m\u001b[K’:\n",
            "\u001b[01m\u001b[Kvcfutils.c:291:25:\u001b[m\u001b[K \u001b[01;35m\u001b[Kwarning: \u001b[m\u001b[Ksuggest parentheses around assignment used as truth value [\u001b[01;35m\u001b[K\u001b]8;;https://gcc.gnu.org/onlinedocs/gcc/Warning-Options.html#index-Wparentheses\u0007-Wparentheses\u001b]8;;\u0007\u001b[m\u001b[K]\n",
            "  291 |                 assert( \u001b[01;35m\u001b[Kn\u001b[m\u001b[K=nG_ori );\n",
            "      |                         \u001b[01;35m\u001b[K^\u001b[m\u001b[K\n",
            "\u001b[01m\u001b[Kcram/cram_io.c:\u001b[m\u001b[K In function ‘\u001b[01m\u001b[Kcram_populate_ref\u001b[m\u001b[K’:\n",
            "\u001b[01m\u001b[Kcram/cram_io.c:1529:34:\u001b[m\u001b[K \u001b[01;35m\u001b[Kwarning: \u001b[m\u001b[K‘\u001b[01m\u001b[K.tmp_\u001b[m\u001b[K’ directive writing 5 bytes into a region of size between 1 and 4096 [\u001b[01;35m\u001b[K\u001b]8;;https://gcc.gnu.org/onlinedocs/gcc/Warning-Options.html#index-Wformat-overflow=\u0007-Wformat-overflow=\u001b]8;;\u0007\u001b[m\u001b[K]\n",
            " 1529 |             sprintf(path_tmp, \"%s\u001b[01;35m\u001b[K.tmp_\u001b[m\u001b[K%d\", path, /*getpid(),*/ i);\n",
            "      |                                  \u001b[01;35m\u001b[K^~~~~\u001b[m\u001b[K\n",
            "\u001b[01m\u001b[Kcram/cram_io.c:1529:31:\u001b[m\u001b[K \u001b[01;36m\u001b[Knote: \u001b[m\u001b[Kdirective argument in the range [0, 2147483647]\n",
            " 1529 |             sprintf(path_tmp, \u001b[01;36m\u001b[K\"%s.tmp_%d\"\u001b[m\u001b[K, path, /*getpid(),*/ i);\n",
            "      |                               \u001b[01;36m\u001b[K^~~~~~~~~~~\u001b[m\u001b[K\n",
            "In file included from \u001b[01m\u001b[K/usr/include/stdio.h:894\u001b[m\u001b[K,\n",
            "                 from \u001b[01m\u001b[Kcram/cram_io.c:51\u001b[m\u001b[K:\n",
            "\u001b[01m\u001b[K/usr/include/x86_64-linux-gnu/bits/stdio2.h:38:10:\u001b[m\u001b[K \u001b[01;36m\u001b[Knote: \u001b[m\u001b[K‘\u001b[01m\u001b[K__builtin___sprintf_chk\u001b[m\u001b[K’ output between 7 and 4111 bytes into a destination of size 4096\n",
            "   38 |   return \u001b[01;36m\u001b[K__builtin___sprintf_chk (__s, __USE_FORTIFY_LEVEL - 1,\u001b[m\u001b[K\n",
            "      |          \u001b[01;36m\u001b[K^~~~~~~~~~~~~~~~~~~~~~~~~~~~~~~~~~~~~~~~~~~~~~~~~~~~~~\u001b[m\u001b[K\n",
            "   39 | \u001b[01;36m\u001b[K                                  __glibc_objsize (__s), __fmt,\u001b[m\u001b[K\n",
            "      |                                   \u001b[01;36m\u001b[K~~~~~~~~~~~~~~~~~~~~~~~~~~~~~\u001b[m\u001b[K\n",
            "   40 | \u001b[01;36m\u001b[K                                  __va_arg_pack ())\u001b[m\u001b[K;\n",
            "      |                                   \u001b[01;36m\u001b[K~~~~~~~~~~~~~~~~~\u001b[m\u001b[K\n",
            "In file included from \u001b[01m\u001b[K/usr/include/string.h:535\u001b[m\u001b[K,\n",
            "                 from \u001b[01m\u001b[Kcram/cram_io.c:55\u001b[m\u001b[K:\n",
            "In function ‘\u001b[01m\u001b[Kstrncpy\u001b[m\u001b[K’,\n",
            "    inlined from ‘\u001b[01m\u001b[Kfull_path\u001b[m\u001b[K’ at \u001b[01m\u001b[Kcram/cram_io.c:2917:6\u001b[m\u001b[K,\n",
            "    inlined from ‘\u001b[01m\u001b[Kcram_write_SAM_hdr\u001b[m\u001b[K’ at \u001b[01m\u001b[Kcram/cram_io.c:2987:3\u001b[m\u001b[K:\n",
            "\u001b[01m\u001b[K/usr/include/x86_64-linux-gnu/bits/string_fortified.h:95:10:\u001b[m\u001b[K \u001b[01;35m\u001b[Kwarning: \u001b[m\u001b[K‘\u001b[01m\u001b[K__builtin_strncpy\u001b[m\u001b[K’ specified bound 4096 equals destination size [\u001b[01;35m\u001b[K\u001b]8;;https://gcc.gnu.org/onlinedocs/gcc/Warning-Options.html#index-Wstringop-truncation\u0007-Wstringop-truncation\u001b]8;;\u0007\u001b[m\u001b[K]\n",
            "   95 |   return \u001b[01;35m\u001b[K__builtin___strncpy_chk (__dest, __src, __len,\u001b[m\u001b[K\n",
            "      |          \u001b[01;35m\u001b[K^~~~~~~~~~~~~~~~~~~~~~~~~~~~~~~~~~~~~~~~~~~~~~\u001b[m\u001b[K\n",
            "   96 | \u001b[01;35m\u001b[K                                  __glibc_objsize (__dest))\u001b[m\u001b[K;\n",
            "      |                                   \u001b[01;35m\u001b[K~~~~~~~~~~~~~~~~~~~~~~~~~\u001b[m\u001b[K\n",
            "In function ‘\u001b[01m\u001b[Kstrncpy\u001b[m\u001b[K’,\n",
            "    inlined from ‘\u001b[01m\u001b[Kfull_path\u001b[m\u001b[K’ at \u001b[01m\u001b[Kcram/cram_io.c:2909:2\u001b[m\u001b[K,\n",
            "    inlined from ‘\u001b[01m\u001b[Kcram_write_SAM_hdr\u001b[m\u001b[K’ at \u001b[01m\u001b[Kcram/cram_io.c:2987:3\u001b[m\u001b[K:\n",
            "\u001b[01m\u001b[K/usr/include/x86_64-linux-gnu/bits/string_fortified.h:95:10:\u001b[m\u001b[K \u001b[01;35m\u001b[Kwarning: \u001b[m\u001b[K‘\u001b[01m\u001b[K__builtin_strncpy\u001b[m\u001b[K’ specified bound 4096 equals destination size [\u001b[01;35m\u001b[K\u001b]8;;https://gcc.gnu.org/onlinedocs/gcc/Warning-Options.html#index-Wstringop-truncation\u0007-Wstringop-truncation\u001b]8;;\u0007\u001b[m\u001b[K]\n",
            "   95 |   return \u001b[01;35m\u001b[K__builtin___strncpy_chk (__dest, __src, __len,\u001b[m\u001b[K\n",
            "      |          \u001b[01;35m\u001b[K^~~~~~~~~~~~~~~~~~~~~~~~~~~~~~~~~~~~~~~~~~~~~~\u001b[m\u001b[K\n",
            "   96 | \u001b[01;35m\u001b[K                                  __glibc_objsize (__dest))\u001b[m\u001b[K;\n",
            "      |                                   \u001b[01;35m\u001b[K~~~~~~~~~~~~~~~~~~~~~~~~~\u001b[m\u001b[K\n",
            "In function ‘\u001b[01m\u001b[Kstrncpy\u001b[m\u001b[K’,\n",
            "    inlined from ‘\u001b[01m\u001b[Kcram_dopen\u001b[m\u001b[K’ at \u001b[01m\u001b[Kcram/cram_io.c:3291:2\u001b[m\u001b[K:\n",
            "\u001b[01m\u001b[K/usr/include/x86_64-linux-gnu/bits/string_fortified.h:95:10:\u001b[m\u001b[K \u001b[01;35m\u001b[Kwarning: \u001b[m\u001b[K‘\u001b[01m\u001b[K__builtin_strncpy\u001b[m\u001b[K’ specified bound 20 equals destination size [\u001b[01;35m\u001b[K\u001b]8;;https://gcc.gnu.org/onlinedocs/gcc/Warning-Options.html#index-Wstringop-truncation\u0007-Wstringop-truncation\u001b]8;;\u0007\u001b[m\u001b[K]\n",
            "   95 |   return \u001b[01;35m\u001b[K__builtin___strncpy_chk (__dest, __src, __len,\u001b[m\u001b[K\n",
            "      |          \u001b[01;35m\u001b[K^~~~~~~~~~~~~~~~~~~~~~~~~~~~~~~~~~~~~~~~~~~~~~\u001b[m\u001b[K\n",
            "   96 | \u001b[01;35m\u001b[K                                  __glibc_objsize (__dest))\u001b[m\u001b[K;\n",
            "      |                                   \u001b[01;35m\u001b[K~~~~~~~~~~~~~~~~~~~~~~~~~\u001b[m\u001b[K\n",
            "In file included from \u001b[01m\u001b[Kcram/sam_header.c:36\u001b[m\u001b[K:\n",
            "\u001b[01m\u001b[Kcram/sam_header.c:\u001b[m\u001b[K In function ‘\u001b[01m\u001b[Ksam_hdr_add_lines\u001b[m\u001b[K’:\n",
            "\u001b[01m\u001b[Kcram/sam_header.c:328:20:\u001b[m\u001b[K \u001b[01;35m\u001b[Kwarning: \u001b[m\u001b[Ksuggest parentheses around assignment used as truth value [\u001b[01;35m\u001b[K\u001b]8;;https://gcc.gnu.org/onlinedocs/gcc/Warning-Options.html#index-Wparentheses\u0007-Wparentheses\u001b]8;;\u0007\u001b[m\u001b[K]\n",
            "  328 |             assert(\u001b[01;35m\u001b[Kp\u001b[m\u001b[K->next = t);\n",
            "      |                    \u001b[01;35m\u001b[K^\u001b[m\u001b[K\n",
            "\u001b[01m\u001b[Kcram/sam_header.c:\u001b[m\u001b[K In function ‘\u001b[01m\u001b[Ksam_hdr_vadd\u001b[m\u001b[K’:\n",
            "\u001b[01m\u001b[Kcram/sam_header.c:449:16:\u001b[m\u001b[K \u001b[01;35m\u001b[Kwarning: \u001b[m\u001b[Ksuggest parentheses around assignment used as truth value [\u001b[01;35m\u001b[K\u001b]8;;https://gcc.gnu.org/onlinedocs/gcc/Warning-Options.html#index-Wparentheses\u0007-Wparentheses\u001b]8;;\u0007\u001b[m\u001b[K]\n",
            "  449 |         assert(\u001b[01;35m\u001b[Kp\u001b[m\u001b[K->next = t);\n",
            "      |                \u001b[01;35m\u001b[K^\u001b[m\u001b[K\n",
            "In file included from \u001b[01m\u001b[K/usr/include/string.h:535\u001b[m\u001b[K,\n",
            "                 from \u001b[01m\u001b[Kcram/string_alloc.c:39\u001b[m\u001b[K:\n",
            "In function ‘\u001b[01m\u001b[Kstrncpy\u001b[m\u001b[K’,\n",
            "    inlined from ‘\u001b[01m\u001b[Kstring_ndup\u001b[m\u001b[K’ at \u001b[01m\u001b[Kcram/string_alloc.c:149:5\u001b[m\u001b[K,\n",
            "    inlined from ‘\u001b[01m\u001b[Kstring_dup\u001b[m\u001b[K’ at \u001b[01m\u001b[Kcram/string_alloc.c:141:12\u001b[m\u001b[K:\n",
            "\u001b[01m\u001b[K/usr/include/x86_64-linux-gnu/bits/string_fortified.h:95:10:\u001b[m\u001b[K \u001b[01;35m\u001b[Kwarning: \u001b[m\u001b[K‘\u001b[01m\u001b[K__builtin_strncpy\u001b[m\u001b[K’ output truncated before terminating nul copying as many bytes from a string as its length [\u001b[01;35m\u001b[K\u001b]8;;https://gcc.gnu.org/onlinedocs/gcc/Warning-Options.html#index-Wstringop-truncation\u0007-Wstringop-truncation\u001b]8;;\u0007\u001b[m\u001b[K]\n",
            "   95 |   return \u001b[01;35m\u001b[K__builtin___strncpy_chk (__dest, __src, __len,\u001b[m\u001b[K\n",
            "      |          \u001b[01;35m\u001b[K^~~~~~~~~~~~~~~~~~~~~~~~~~~~~~~~~~~~~~~~~~~~~~\u001b[m\u001b[K\n",
            "   96 | \u001b[01;35m\u001b[K                                  __glibc_objsize (__dest))\u001b[m\u001b[K;\n",
            "      |                                   \u001b[01;35m\u001b[K~~~~~~~~~~~~~~~~~~~~~~~~~\u001b[m\u001b[K\n",
            "\u001b[01m\u001b[Kcram/string_alloc.c:\u001b[m\u001b[K In function ‘\u001b[01m\u001b[Kstring_dup\u001b[m\u001b[K’:\n",
            "\u001b[01m\u001b[Kcram/string_alloc.c:141:12:\u001b[m\u001b[K \u001b[01;36m\u001b[Knote: \u001b[m\u001b[Klength computed here\n",
            "  141 |     return \u001b[01;36m\u001b[Kstring_ndup(a_str, instr, strlen(instr))\u001b[m\u001b[K;\n",
            "      |            \u001b[01;36m\u001b[K^~~~~~~~~~~~~~~~~~~~~~~~~~~~~~~~~~~~~~~~\u001b[m\u001b[K\n",
            "\u001b[01m\u001b[Kcram/vlen.c:\u001b[m\u001b[K In function ‘\u001b[01m\u001b[Kvflen\u001b[m\u001b[K’:\n",
            "\u001b[01m\u001b[Kcram/vlen.c:121:9:\u001b[m\u001b[K \u001b[01;35m\u001b[Kwarning: \u001b[m\u001b[Kvariable ‘\u001b[01m\u001b[Ki\u001b[m\u001b[K’ set but not used [\u001b[01;35m\u001b[K\u001b]8;;https://gcc.gnu.org/onlinedocs/gcc/Warning-Options.html#index-Wunused-but-set-variable\u0007-Wunused-but-set-variable\u001b]8;;\u0007\u001b[m\u001b[K]\n",
            "  121 |     int \u001b[01;35m\u001b[Ki\u001b[m\u001b[K;\n",
            "      |         \u001b[01;35m\u001b[K^\u001b[m\u001b[K\n",
            "[ 53%] \u001b[34m\u001b[1mNo install step for 'htslib'\u001b[0m\n",
            "[ 61%] \u001b[34m\u001b[1mCompleted 'htslib'\u001b[0m\n",
            "[ 61%] Built target htslib\n",
            "[ 69%] \u001b[32mBuilding CXX object src/CMakeFiles/splitcode_core.dir/ProcessReads.cpp.o\u001b[0m\n",
            "[ 76%] \u001b[32mBuilding CXX object src/CMakeFiles/splitcode_core.dir/main.cpp.o\u001b[0m\n",
            "[ 84%] \u001b[32m\u001b[1mLinking CXX static library libsplitcode_core.a\u001b[0m\n",
            "[ 84%] Built target splitcode_core\n",
            "[ 92%] \u001b[32mBuilding CXX object src/CMakeFiles/splitcode.dir/main.cpp.o\u001b[0m\n",
            "[100%] \u001b[32m\u001b[1mLinking CXX executable splitcode\u001b[0m\n",
            "[100%] Built target splitcode\n",
            "[ 61%] Built target htslib\n",
            "[ 84%] Built target splitcode_core\n",
            "[100%] Built target splitcode\n",
            "\u001b[36mInstall the project...\u001b[0m\n",
            "-- Install configuration: \"Release\"\n",
            "-- Installing: /usr/local/bin/splitcode\n"
          ]
        }
      ],
      "source": [
        "!git clone https://github.com/pachterlab/splitcode\n",
        "!cd splitcode && mkdir build && cd build && cmake .. && make && make install"
      ]
    },
    {
      "cell_type": "code",
      "source": [
        "# Splitcode version\n",
        "!splitcode --version"
      ],
      "metadata": {
        "colab": {
          "base_uri": "https://localhost:8080/"
        },
        "id": "kUILwizfFeXm",
        "outputId": "1223bbf4-62ee-4fa2-e14f-c82fc35bf511"
      },
      "execution_count": 2,
      "outputs": [
        {
          "output_type": "stream",
          "name": "stdout",
          "text": [
            "splitcode, version 0.30.0\n"
          ]
        }
      ]
    },
    {
      "cell_type": "markdown",
      "source": [
        "# Download read files and config file"
      ],
      "metadata": {
        "id": "rCS1K9GPD0n4"
      }
    },
    {
      "cell_type": "code",
      "source": [
        "!wget https://raw.githubusercontent.com/pachterlab/splitcode-tutorial/main/uploads/example/config.txt\n",
        "!wget https://raw.githubusercontent.com/pachterlab/splitcode-tutorial/main/uploads/example/R1.fastq\n",
        "!wget https://raw.githubusercontent.com/pachterlab/splitcode-tutorial/main/uploads/example/R2.fastq"
      ],
      "metadata": {
        "colab": {
          "base_uri": "https://localhost:8080/"
        },
        "id": "eLSOQ6BdD4xt",
        "outputId": "eafc2576-49e2-4c79-c2a2-75d6b3d5b189"
      },
      "execution_count": 3,
      "outputs": [
        {
          "output_type": "stream",
          "name": "stdout",
          "text": [
            "--2024-06-10 23:37:18--  https://raw.githubusercontent.com/pachterlab/splitcode-tutorial/main/uploads/example/config.txt\n",
            "Resolving raw.githubusercontent.com (raw.githubusercontent.com)... 185.199.111.133, 185.199.109.133, 185.199.108.133, ...\n",
            "Connecting to raw.githubusercontent.com (raw.githubusercontent.com)|185.199.111.133|:443... connected.\n",
            "HTTP request sent, awaiting response... 200 OK\n",
            "Length: 304 [text/plain]\n",
            "Saving to: ‘config.txt’\n",
            "\n",
            "\rconfig.txt            0%[                    ]       0  --.-KB/s               \rconfig.txt          100%[===================>]     304  --.-KB/s    in 0s      \n",
            "\n",
            "2024-06-10 23:37:18 (14.9 MB/s) - ‘config.txt’ saved [304/304]\n",
            "\n",
            "--2024-06-10 23:37:18--  https://raw.githubusercontent.com/pachterlab/splitcode-tutorial/main/uploads/example/R1.fastq\n",
            "Resolving raw.githubusercontent.com (raw.githubusercontent.com)... 185.199.108.133, 185.199.109.133, 185.199.110.133, ...\n",
            "Connecting to raw.githubusercontent.com (raw.githubusercontent.com)|185.199.108.133|:443... connected.\n",
            "HTTP request sent, awaiting response... 200 OK\n",
            "Length: 412 [text/plain]\n",
            "Saving to: ‘R1.fastq’\n",
            "\n",
            "R1.fastq            100%[===================>]     412  --.-KB/s    in 0s      \n",
            "\n",
            "2024-06-10 23:37:18 (20.4 MB/s) - ‘R1.fastq’ saved [412/412]\n",
            "\n",
            "--2024-06-10 23:37:18--  https://raw.githubusercontent.com/pachterlab/splitcode-tutorial/main/uploads/example/R2.fastq\n",
            "Resolving raw.githubusercontent.com (raw.githubusercontent.com)... 185.199.109.133, 185.199.111.133, 185.199.110.133, ...\n",
            "Connecting to raw.githubusercontent.com (raw.githubusercontent.com)|185.199.109.133|:443... connected.\n",
            "HTTP request sent, awaiting response... 200 OK\n",
            "Length: 844 [text/plain]\n",
            "Saving to: ‘R2.fastq’\n",
            "\n",
            "R2.fastq            100%[===================>]     844  --.-KB/s    in 0s      \n",
            "\n",
            "2024-06-10 23:37:18 (36.7 MB/s) - ‘R2.fastq’ saved [844/844]\n",
            "\n"
          ]
        }
      ]
    },
    {
      "cell_type": "markdown",
      "source": [
        "# Inspect downloaded files"
      ],
      "metadata": {
        "id": "nI9gNUvYEgNf"
      }
    },
    {
      "cell_type": "markdown",
      "source": [
        "## config.txt"
      ],
      "metadata": {
        "id": "lcBDNhELEinv"
      }
    },
    {
      "cell_type": "code",
      "source": [
        "!cat config.txt"
      ],
      "metadata": {
        "colab": {
          "base_uri": "https://localhost:8080/"
        },
        "id": "O3MVWRHzEq_h",
        "outputId": "585a51b0-b25c-4b46-c6a9-d9bc2b8756be"
      },
      "execution_count": 4,
      "outputs": [
        {
          "output_type": "stream",
          "name": "stdout",
          "text": [
            "@extract {{grp_B}}3<umi[8]>\n",
            "@trim-3 0,4\n",
            "group\tid\t\ttag\tdistance\tnext\t\tmaxFindsG\tlocation\n",
            "grp_A\tBarcode_A1\tAAGGA\t1\t\t{{grp_B}}\t1\t\t0:0:5\n",
            "grp_A\tBarcode_A2\tGTGTG\t1\t\t{{grp_B}}\t1\t\t0:0:5\n",
            "grp_A\tBarcode_A3\tCGTAT\t1\t\t{{grp_B}}\t1\t\t0:0:5\n",
            "grp_B\tBarcode_B1\tGCGCAA\t0\t\t-\t\t1\t\t0:5:100\n",
            "grp_B\tBarcode_B2\tCCCGT\t0\t\t-\t\t1\t\t0:5:100\n"
          ]
        }
      ]
    },
    {
      "cell_type": "markdown",
      "source": [
        "## R1.fastq"
      ],
      "metadata": {
        "id": "isL_2HBEEkb3"
      }
    },
    {
      "cell_type": "code",
      "source": [
        "!cat R1.fastq"
      ],
      "metadata": {
        "colab": {
          "base_uri": "https://localhost:8080/"
        },
        "id": "aHCq6JOyErno",
        "outputId": "e8cb80f7-1b6b-4ca1-9951-d317f872122f"
      },
      "execution_count": 5,
      "outputs": [
        {
          "output_type": "stream",
          "name": "stdout",
          "text": [
            "@read1\n",
            "GTGTCAAAAAAAAAACCCGTCCCGTGTCTCTGGGGGGGGGGGGGGG\n",
            "+\n",
            "CCCFFFFFHHHGGJJJJGGJJJJJJJJJJJJJJJJJJJJJIJIIGJ\n",
            "@read2\n",
            "AAGGAAAAAAAAAAATTTTTTTTTTTTTTTTCCCCCCCCGGGGGCG\n",
            "+\n",
            "CCCCFFFHHHHJGJJJJJGJJJGJJJJJJJJJJJJJJJJJJJJJJJ\n",
            "@read3\n",
            "GTGTGAAAAATAAAAAAACCCGTCCCGTGTCTCTGGGGGGGCCCGT\n",
            "+\n",
            "CCCFFFFHHHHGGGGJJGGJJJJJJJJJJJJJJJJJJJJJIJIIGJ\n",
            "@read4\n",
            "AAAAAAAAAAATTTTTAAAAAAATAAAAATTTAAAAAAAAAAAAAA\n",
            "+\n",
            "CCCFFFFHHHHGGGGJJGGJJJJJJJJJJJJJJJJJJJJJIJIIGJ\n"
          ]
        }
      ]
    },
    {
      "cell_type": "markdown",
      "source": [
        "## R2.fastq"
      ],
      "metadata": {
        "id": "BLhZPFS7EmQ3"
      }
    },
    {
      "cell_type": "code",
      "source": [
        "!cat R2.fastq"
      ],
      "metadata": {
        "colab": {
          "base_uri": "https://localhost:8080/"
        },
        "id": "AYE3fWX0EsQv",
        "outputId": "71dbe192-ef36-474d-c263-74d86b5271b0"
      },
      "execution_count": 6,
      "outputs": [
        {
          "output_type": "stream",
          "name": "stdout",
          "text": [
            "@read1\n",
            "ATCGATATAGAGAGATACGAGAGAGAGAGATATCGAGATAGAGAGGGATTAAAAATTCCGAGACCAAAGCGCGAGCGAGAGNNCGANCGGACTTTTNAAA\n",
            "+\n",
            "CCCFFFFFHHHHHJJJJJJJJJJJJJJJJJJJJJJJJJJJJJJJJJJJJJJJJJJJJJJJJJJJJJJJJJHHHHHHFFFDD!!DDD!DDDDDDEDD!DDD\n",
            "@read2\n",
            "ATGGATTTAGCCCGATCCGGGTGGGAGAGATATCGAGATAGAGAGGGATATCCGGGTGGGAGAGATATATCCGGGTGGGAGAGATATGGGAGAGAGGTGG\n",
            "+\n",
            "CCCFFFFHHHHHHGJGJJJJJJGJJJJJJJJJJJJJJJJJJJJJJJJJJJJJJJJJJJJJJJJJJJJJJJHHHHHHFFFFDDDDDDDDDDDDDEDDDDDD\n",
            "@read3\n",
            "TTCGATATAGAGAGATACGAGAGAGAGAGATATCGAGATAGAGAGGGATTAAAAATTCCGAGACCAAAGCGCGAGCGAGAGGGCGACCGGACTTTTTAAA\n",
            "+\n",
            "CCCFFFFFHHHHHJJJJJJJJJJJJJJJJJJJJJJJJJJJJJJJJJJJJJJJJJJJJJJJJJJJJJJJJJHHHHHHFFFDDDDDDDDDDDDDDEDDEDDD\n",
            "@read4\n",
            "TATCGAGATAGAGAGGGGAGAGATATCGAGATAGAGAGGGATTAAAAATTCCGAGACCAAAGCGCGAGCGAGAGGGCGACCGGACTTTTTAAAAAAAAAA\n",
            "+\n",
            "CCCFFFFFHHHHHJJJJJJJJJJJJJJJJJJJJJJJJJJJJJJJJJJJJJJJJJJJJJJJJJJJJJJJJJHHHHHHFFFDDDDDDDDDDDDDDEDDDDDD\n"
          ]
        }
      ]
    },
    {
      "cell_type": "markdown",
      "source": [
        "# Run splitcode"
      ],
      "metadata": {
        "id": "YBrpu5O7ELGo"
      }
    },
    {
      "cell_type": "code",
      "source": [
        "!splitcode -c config.txt --nFastqs=2 --assign --pipe --mapping=mapping.txt R1.fastq R2.fastq"
      ],
      "metadata": {
        "colab": {
          "base_uri": "https://localhost:8080/"
        },
        "id": "TixolM83D_Gl",
        "outputId": "4b18cc03-a62c-4e0b-8f94-e5c012aefe4b"
      },
      "execution_count": 7,
      "outputs": [
        {
          "output_type": "stream",
          "name": "stdout",
          "text": [
            "@read1\n",
            "AAAAAAAAAAAAAAAA\n",
            "+\n",
            "KKKKKKKKKKKKKKKK\n",
            "@read1\n",
            "GTGTCTCT\n",
            "+\n",
            "KKKKKKKK\n",
            "@read1\n",
            "GTGTCAAAAAAAAAACCCGTCCCGTGTCTCTGGGGGGGGGGGGGGG\n",
            "+\n",
            "CCCFFFFFHHHGGJJJJGGJJJJJJJJJJJJJJJJJJJJJIJIIGJ\n",
            "@read1\n",
            "ATCGATATAGAGAGATACGAGAGAGAGAGATATCGAGATAGAGAGGGATTAAAAATTCCGAGACCAAAGCGCGAGCGAGAGNNCGANCGGACTTTT\n",
            "+\n",
            "CCCFFFFFHHHHHJJJJJJJJJJJJJJJJJJJJJJJJJJJJJJJJJJJJJJJJJJJJJJJJJJJJJJJJJHHHHHHFFFDD!!DDD!DDDDDDEDD\n",
            "@read2\n",
            "AAAAAAAAAAAAAAAC\n",
            "+\n",
            "KKKKKKKKKKKKKKKK\n",
            "@read2\n",
            "\n",
            "+\n",
            "\n",
            "@read2\n",
            "AAGGAAAAAAAAAAATTTTTTTTTTTTTTTTCCCCCCCCGGGGGCG\n",
            "+\n",
            "CCCCFFFHHHHJGJJJJJGJJJGJJJJJJJJJJJJJJJJJJJJJJJ\n",
            "@read2\n",
            "ATGGATTTAGCCCGATCCGGGTGGGAGAGATATCGAGATAGAGAGGGATATCCGGGTGGGAGAGATATATCCGGGTGGGAGAGATATGGGAGAGAG\n",
            "+\n",
            "CCCFFFFHHHHHHGJGJJJJJJGJJJJJJJJJJJJJJJJJJJJJJJJJJJJJJJJJJJJJJJJJJJJJJJHHHHHHFFFFDDDDDDDDDDDDDEDD\n",
            "@read3\n",
            "AAAAAAAAAAAAAAAA\n",
            "+\n",
            "KKKKKKKKKKKKKKKK\n",
            "@read3\n",
            "GTGTCTCT\n",
            "+\n",
            "KKKKKKKK\n",
            "@read3\n",
            "GTGTGAAAAATAAAAAAACCCGTCCCGTGTCTCTGGGGGGGCCCGT\n",
            "+\n",
            "CCCFFFFHHHHGGGGJJGGJJJJJJJJJJJJJJJJJJJJJIJIIGJ\n",
            "@read3\n",
            "TTCGATATAGAGAGATACGAGAGAGAGAGATATCGAGATAGAGAGGGATTAAAAATTCCGAGACCAAAGCGCGAGCGAGAGGGCGACCGGACTTTT\n",
            "+\n",
            "CCCFFFFFHHHHHJJJJJJJJJJJJJJJJJJJJJJJJJJJJJJJJJJJJJJJJJJJJJJJJJJJJJJJJJHHHHHHFFFDDDDDDDDDDDDDDEDD\n"
          ]
        }
      ]
    }
  ]
}