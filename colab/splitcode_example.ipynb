{
  "nbformat": 4,
  "nbformat_minor": 0,
  "metadata": {
    "colab": {
      "provenance": [],
      "authorship_tag": "ABX9TyPNQMADFN9tRqVBxxFpbrDY",
      "include_colab_link": true
    },
    "kernelspec": {
      "name": "python3",
      "display_name": "Python 3"
    },
    "language_info": {
      "name": "python"
    }
  },
  "cells": [
    {
      "cell_type": "markdown",
      "metadata": {
        "id": "view-in-github",
        "colab_type": "text"
      },
      "source": [
        "<a href=\"https://colab.research.google.com/github/pachterlab/splitcode-tutorial/blob/main/colab/splitcode_example.ipynb\" target=\"_parent\"><img src=\"https://colab.research.google.com/assets/colab-badge.svg\" alt=\"Open In Colab\"/></a>"
      ]
    },
    {
      "cell_type": "markdown",
      "source": [
        "# Install splitcode"
      ],
      "metadata": {
        "id": "bF1cCwupDt3Z"
      }
    },
    {
      "cell_type": "code",
      "execution_count": 1,
      "metadata": {
        "colab": {
          "base_uri": "https://localhost:8080/"
        },
        "id": "S_nPlPEXDmH6",
        "outputId": "be5b7619-65f7-440f-ad9b-9107e8e50447"
      },
      "outputs": [
        {
          "output_type": "stream",
          "name": "stdout",
          "text": [
            "Cloning into 'splitcode'...\n",
            "remote: Enumerating objects: 1636, done.\u001b[K\n",
            "remote: Counting objects: 100% (123/123), done.\u001b[K\n",
            "remote: Compressing objects: 100% (97/97), done.\u001b[K\n",
            "remote: Total 1636 (delta 77), reused 49 (delta 26), pack-reused 1513\u001b[K\n",
            "Receiving objects: 100% (1636/1636), 5.86 MiB | 15.32 MiB/s, done.\n",
            "Resolving deltas: 100% (988/988), done.\n",
            "-- The C compiler identification is GNU 9.4.0\n",
            "-- The CXX compiler identification is GNU 9.4.0\n",
            "-- Detecting C compiler ABI info\n",
            "-- Detecting C compiler ABI info - done\n",
            "-- Check for working C compiler: /usr/bin/cc - skipped\n",
            "-- Detecting C compile features\n",
            "-- Detecting C compile features - done\n",
            "-- Detecting CXX compiler ABI info\n",
            "-- Detecting CXX compiler ABI info - done\n",
            "-- Check for working CXX compiler: /usr/bin/c++ - skipped\n",
            "-- Detecting CXX compile features\n",
            "-- Detecting CXX compile features - done\n",
            "\u001b[0mshared build\u001b[0m\n",
            "-- Performing Test CMAKE_HAVE_LIBC_PTHREAD\n",
            "-- Performing Test CMAKE_HAVE_LIBC_PTHREAD - Failed\n",
            "-- Looking for pthread_create in pthreads\n",
            "-- Looking for pthread_create in pthreads - not found\n",
            "-- Looking for pthread_create in pthread\n",
            "-- Looking for pthread_create in pthread - found\n",
            "-- Found Threads: TRUE  \n",
            "-- Configuring done\n",
            "-- Generating done\n",
            "-- Build files have been written to: /content/splitcode/build\n",
            "-- Using CMake version 3.25.2\n",
            "-- ZLIB_HEADER_VERSION: 1.2.12\n",
            "-- The C compiler identification is GNU 9.4.0\n",
            "-- Detecting C compiler ABI info\n",
            "-- Detecting C compiler ABI info - done\n",
            "-- Check for working C compiler: /usr/bin/cc - skipped\n",
            "-- Detecting C compile features\n",
            "-- Detecting C compile features - done\n",
            "-- Arch detected: 'x86_64'\n",
            "-- Basearch of 'x86_64' has been detected as: 'x86'\n",
            "-- Performing Test FNO_LTO_AVAILABLE\n",
            "-- Performing Test FNO_LTO_AVAILABLE - Success\n",
            "-- Looking for sys/auxv.h\n",
            "-- Looking for sys/auxv.h - found\n",
            "-- Looking for sys/sdt.h\n",
            "-- Looking for sys/sdt.h - not found\n",
            "-- Looking for unistd.h\n",
            "-- Looking for unistd.h - found\n",
            "-- Looking for sys/types.h\n",
            "-- Looking for sys/types.h - found\n",
            "-- Looking for stdint.h\n",
            "-- Looking for stdint.h - found\n",
            "-- Looking for stddef.h\n",
            "-- Looking for stddef.h - found\n",
            "-- Check size of off64_t\n",
            "-- Check size of off64_t - done\n",
            "-- Looking for fseeko\n",
            "-- Looking for fseeko - found\n",
            "-- Looking for strerror\n",
            "-- Looking for strerror - found\n",
            "-- Looking for posix_memalign\n",
            "-- Looking for posix_memalign - found\n",
            "-- Performing Test HAVE_NO_INTERPOSITION\n",
            "-- Performing Test HAVE_NO_INTERPOSITION - Success\n",
            "-- Performing Test HAVE_ATTRIBUTE_VISIBILITY_HIDDEN\n",
            "-- Performing Test HAVE_ATTRIBUTE_VISIBILITY_HIDDEN - Success\n",
            "-- Performing Test HAVE_ATTRIBUTE_VISIBILITY_INTERNAL\n",
            "-- Performing Test HAVE_ATTRIBUTE_VISIBILITY_INTERNAL - Success\n",
            "-- Performing Test HAVE_BUILTIN_CTZ\n",
            "-- Performing Test HAVE_BUILTIN_CTZ - Success\n",
            "-- Performing Test HAVE_BUILTIN_CTZLL\n",
            "-- Performing Test HAVE_BUILTIN_CTZLL - Success\n",
            "-- Performing Test HAVE_PTRDIFF_T\n",
            "-- Performing Test HAVE_PTRDIFF_T - Success\n",
            "-- Performing Test HAVE_AVX2_INTRIN\n",
            "-- Performing Test HAVE_AVX2_INTRIN - Success\n",
            "-- Performing Test HAVE_AVX512_INTRIN\n",
            "-- Performing Test HAVE_AVX512_INTRIN - Success\n",
            "-- Performing Test HAVE_MASK_INTRIN\n",
            "-- Performing Test HAVE_MASK_INTRIN - Success\n",
            "-- Performing Test HAVE_AVX512VNNI_INTRIN\n",
            "-- Performing Test HAVE_AVX512VNNI_INTRIN - Success\n",
            "-- Performing Test HAVE_SSE41_INTRIN\n",
            "-- Performing Test HAVE_SSE41_INTRIN - Success\n",
            "-- Performing Test HAVE_SSE42CRC_INLINE_ASM\n",
            "-- Performing Test HAVE_SSE42CRC_INLINE_ASM - Success\n",
            "-- Performing Test HAVE_SSE42CRC_INTRIN\n",
            "-- Performing Test HAVE_SSE42CRC_INTRIN - Success\n",
            "-- Performing Test HAVE_SSE42CMPSTR_INTRIN\n",
            "-- Performing Test HAVE_SSE42CMPSTR_INTRIN - Success\n",
            "-- Performing Test HAVE_SSE2_INTRIN\n",
            "-- Performing Test HAVE_SSE2_INTRIN - Success\n",
            "-- Performing Test HAVE_SSSE3_INTRIN\n",
            "-- Performing Test HAVE_SSSE3_INTRIN - Success\n",
            "-- Performing Test HAVE_PCLMULQDQ_INTRIN\n",
            "-- Performing Test HAVE_PCLMULQDQ_INTRIN - Success\n",
            "-- Performing Test HAVE_VPCLMULQDQ_INTRIN\n",
            "-- Performing Test HAVE_VPCLMULQDQ_INTRIN - Failed\n",
            "-- Architecture-specific source files: arch/x86/x86_features.c;arch/x86/slide_hash_avx2.c;arch/x86/chunkset_avx.c;arch/x86/compare256_avx2.c;arch/x86/adler32_avx2.c;arch/x86/adler32_avx512.c;arch/x86/adler32_avx512_vnni.c;arch/x86/chunkset_sse41.c;arch/x86/adler32_sse42.c;arch/x86/insert_string_sse42.c;arch/x86/chunkset_sse2.c;arch/x86/compare256_sse2.c;arch/x86/slide_hash_sse2.c;arch/x86/adler32_ssse3.c;arch/x86/crc32_fold_pclmulqdq.c\n",
            "-- The CXX compiler identification is GNU 9.4.0\n",
            "-- Detecting CXX compiler ABI info\n",
            "-- Detecting CXX compiler ABI info - done\n",
            "-- Check for working CXX compiler: /usr/bin/c++ - skipped\n",
            "-- Detecting CXX compile features\n",
            "-- Detecting CXX compile features - done\n",
            "-- Found Python: /usr/local/bin/python (found version \"3.9.16\") found components: Interpreter \n",
            "-- Performing Test CMAKE_HAVE_LIBC_PTHREAD\n",
            "-- Performing Test CMAKE_HAVE_LIBC_PTHREAD - Failed\n",
            "-- Looking for pthread_create in pthreads\n",
            "-- Looking for pthread_create in pthreads - not found\n",
            "-- Looking for pthread_create in pthread\n",
            "-- Looking for pthread_create in pthread - found\n",
            "-- Found Threads: TRUE  \n",
            "-- The following features have been enabled:\n",
            "\n",
            " * CMAKE_BUILD_TYPE, Build type: Release (default)\n",
            " * AVX2_SLIDEHASH, Support AVX2 optimized slide_hash, using \"-mavx2\"\n",
            " * AVX_CHUNKSET, Support AVX optimized chunkset, using \"-mavx2\"\n",
            " * AVX2_COMPARE256, Support AVX2 optimized compare256, using \"-mavx2\"\n",
            " * AVX2_ADLER32, Support AVX2-accelerated adler32, using \"-mavx2\"\n",
            " * AVX512_ADLER32, Support AVX512-accelerated adler32, using \"-mavx512f -mavx512dq -mavx512bw -mavx512vl -mtune=cascadelake\"\n",
            " * AVX512VNNI_ADLER32, Support AVX512VNNI adler32, using \"-mavx512f -mavx512dq -mavx512bw -mavx512vl -mavx512vnni -mtune=cascadelake\"\n",
            " * SSE42_CRC, Support SSE4.2 optimized CRC hash generation, using \"-msse4.2\"\n",
            " * SSSE3_ADLER32, Support SSSE3-accelerated adler32, using \"-mssse3\"\n",
            " * PCLMUL_CRC, Support CRC hash generation using PCLMULQDQ, using \"-mssse3 -msse4.2 -mpclmul\"\n",
            " * WITH_GZFILEOP, Compile with support for gzFile related functions\n",
            " * ZLIB_ENABLE_TESTS, Build test binaries\n",
            " * WITH_SANITIZER, Enable sanitizer support\n",
            " * WITH_OPTIM, Build with optimisation\n",
            " * WITH_NEW_STRATEGIES, Use new strategies\n",
            " * WITH_AVX2, Build with AVX2\n",
            " * WITH_AVX512, Build with AVX512\n",
            " * WITH_AVX512VNNI, Build with AVX512 VNNI\n",
            " * WITH_SSE2, Build with SSE2\n",
            " * WITH_SSSE3, Build with SSSE3\n",
            " * WITH_SSE41, Build with SSE41\n",
            " * WITH_SSE42, Build with SSE42\n",
            " * WITH_PCLMULQDQ, Build with PCLMULQDQ\n",
            "\n",
            "-- The following OPTIONAL packages have been found:\n",
            "\n",
            " * Git\n",
            " * Python\n",
            " * Threads\n",
            "\n",
            "-- The following features have been disabled:\n",
            "\n",
            " * FORCE_TZCNT, Assume CPU is TZCNT capable\n",
            " * ZLIB_SYMBOL_PREFIX, Publicly exported symbols DO NOT have a custom prefix\n",
            " * ZLIB_COMPAT, Compile with zlib compatible API\n",
            " * WITH_FUZZERS, Build test/fuzz\n",
            " * WITH_BENCHMARKS, Build test/benchmarks\n",
            " * WITH_BENCHMARK_APPS, Build application benchmarks\n",
            " * WITH_NATIVE_INSTRUCTIONS, Instruct the compiler to use the full instruction set on this host (gcc/clang -march=native)\n",
            " * WITH_MAINTAINER_WARNINGS, Build with project maintainer warnings\n",
            " * WITH_CODE_COVERAGE, Enable code coverage reporting\n",
            " * WITH_INFLATE_STRICT, Build with strict inflate distance checking\n",
            " * WITH_INFLATE_ALLOW_INVALID_DIST, Build with zero fill for inflate invalid distances\n",
            " * WITH_VPCLMULQDQ, Build with VPCLMULQDQ\n",
            " * INSTALL_UTILS, Copy minigzip and minideflate during install\n",
            "\n",
            "-- Configuring done\n",
            "-- Generating done\n",
            "[ 69%] \u001b[32mBuilding CXX object src/CMakeFiles/splitcode_core.dir/ProcessReads.cpp.o\u001b[0m\n",
            "[ 76%] \u001b[32mBuilding CXX object src/CMakeFiles/splitcode_core.dir/main.cpp.o\u001b[0m\n",
            "[ 84%] \u001b[32m\u001b[1mLinking CXX static library libsplitcode_core.a\u001b[0m\n",
            "[ 84%] Built target splitcode_core\n",
            "[ 92%] \u001b[32mBuilding CXX object src/CMakeFiles/splitcode.dir/main.cpp.o\u001b[0m\n",
            "[100%] \u001b[32m\u001b[1mLinking CXX executable splitcode\u001b[0m\n",
            "[100%] Built target splitcode\n",
            "[ 84%] Built target splitcode_core\n",
            "[100%] Built target splitcode\n",
            "\u001b[36mInstall the project...\u001b[0m\n",
            "-- Install configuration: \"Release\"\n",
            "-- Installing: /usr/local/bin/splitcode\n"
          ]
        }
      ],
      "source": [
        "!git clone https://github.com/pachterlab/splitcode\n",
        "!cd splitcode && mkdir build && cd build && make && make install"
      ]
    },
    {
      "cell_type": "code",
      "source": [
        "# Splitcode version\n",
        "!splitcode --version"
      ],
      "metadata": {
        "colab": {
          "base_uri": "https://localhost:8080/"
        },
        "id": "kUILwizfFeXm",
        "outputId": "949c9bb2-02ab-4879-f668-796cf7f57679"
      },
      "execution_count": 2,
      "outputs": [
        {
          "output_type": "stream",
          "name": "stdout",
          "text": [
            "splitcode, version 0.28.0\n"
          ]
        }
      ]
    },
    {
      "cell_type": "markdown",
      "source": [
        "# Download read files and config file"
      ],
      "metadata": {
        "id": "rCS1K9GPD0n4"
      }
    },
    {
      "cell_type": "code",
      "source": [
        "!wget https://raw.githubusercontent.com/pachterlab/splitcode-tutorial/main/uploads/example/config.txt\n",
        "!wget https://raw.githubusercontent.com/pachterlab/splitcode-tutorial/main/uploads/example/R1.fastq\n",
        "!wget https://raw.githubusercontent.com/pachterlab/splitcode-tutorial/main/uploads/example/R2.fastq"
      ],
      "metadata": {
        "colab": {
          "base_uri": "https://localhost:8080/"
        },
        "id": "eLSOQ6BdD4xt",
        "outputId": "8b156706-9a42-4b1a-fef1-a618e0222a76"
      },
      "execution_count": 3,
      "outputs": [
        {
          "output_type": "stream",
          "name": "stdout",
          "text": [
            "--2023-03-19 18:18:52--  https://raw.githubusercontent.com/pachterlab/splitcode-tutorial/main/uploads/example/config.txt\n",
            "Resolving raw.githubusercontent.com (raw.githubusercontent.com)... 185.199.108.133, 185.199.109.133, 185.199.110.133, ...\n",
            "Connecting to raw.githubusercontent.com (raw.githubusercontent.com)|185.199.108.133|:443... connected.\n",
            "HTTP request sent, awaiting response... 200 OK\n",
            "Length: 309 [text/plain]\n",
            "Saving to: ‘config.txt’\n",
            "\n",
            "config.txt          100%[===================>]     309  --.-KB/s    in 0s      \n",
            "\n",
            "2023-03-19 18:18:52 (17.9 MB/s) - ‘config.txt’ saved [309/309]\n",
            "\n",
            "--2023-03-19 18:18:52--  https://raw.githubusercontent.com/pachterlab/splitcode-tutorial/main/uploads/example/R1.fastq\n",
            "Resolving raw.githubusercontent.com (raw.githubusercontent.com)... 185.199.111.133, 185.199.109.133, 185.199.108.133, ...\n",
            "Connecting to raw.githubusercontent.com (raw.githubusercontent.com)|185.199.111.133|:443... connected.\n",
            "HTTP request sent, awaiting response... 200 OK\n",
            "Length: 412 [text/plain]\n",
            "Saving to: ‘R1.fastq’\n",
            "\n",
            "R1.fastq            100%[===================>]     412  --.-KB/s    in 0s      \n",
            "\n",
            "2023-03-19 18:18:52 (29.1 MB/s) - ‘R1.fastq’ saved [412/412]\n",
            "\n",
            "--2023-03-19 18:18:52--  https://raw.githubusercontent.com/pachterlab/splitcode-tutorial/main/uploads/example/R2.fastq\n",
            "Resolving raw.githubusercontent.com (raw.githubusercontent.com)... 185.199.108.133, 185.199.111.133, 185.199.109.133, ...\n",
            "Connecting to raw.githubusercontent.com (raw.githubusercontent.com)|185.199.108.133|:443... connected.\n",
            "HTTP request sent, awaiting response... 200 OK\n",
            "Length: 844 [text/plain]\n",
            "Saving to: ‘R2.fastq’\n",
            "\n",
            "R2.fastq            100%[===================>]     844  --.-KB/s    in 0s      \n",
            "\n",
            "2023-03-19 18:18:52 (35.5 MB/s) - ‘R2.fastq’ saved [844/844]\n",
            "\n"
          ]
        }
      ]
    },
    {
      "cell_type": "markdown",
      "source": [
        "# Inspect downloaded files"
      ],
      "metadata": {
        "id": "nI9gNUvYEgNf"
      }
    },
    {
      "cell_type": "markdown",
      "source": [
        "## config.txt"
      ],
      "metadata": {
        "id": "lcBDNhELEinv"
      }
    },
    {
      "cell_type": "code",
      "source": [
        "!cat config.txt"
      ],
      "metadata": {
        "colab": {
          "base_uri": "https://localhost:8080/"
        },
        "id": "O3MVWRHzEq_h",
        "outputId": "ea0e98b4-5742-4386-8b7c-ad13560d0d12"
      },
      "execution_count": 4,
      "outputs": [
        {
          "output_type": "stream",
          "name": "stdout",
          "text": [
            "@extract {{grp_B}}3<umi[8]>\n",
            "@trim-3 0,4\n",
            "group\tid\t\ttag\tdistance\tnext\t\tmaxFindsG\tlocation\n",
            "grp_A\tBarcode_A1\tAAGGA\t1\t\t{{grp_B}}\t1\t\t0:0:5\n",
            "grp_A\tBarcode_A2\tGTGTG\t1\t\t{{grp_B}}\t1\t\t0:0:5\n",
            "grp_A\tBarcode_A3\tCGTAT\t1\t\t{{grp_B}}\t1\t\t0:0:5\n",
            "grp_B\tBarcode_B1\tGCGCAA\t0\t\t-\t\t1\t\t0:5:100\n",
            "grp_B\tBarcode_B2\tCCCGT\t0\t\t-\t\t1\t\t0:5:100\n"
          ]
        }
      ]
    },
    {
      "cell_type": "markdown",
      "source": [
        "## R1.fastq"
      ],
      "metadata": {
        "id": "isL_2HBEEkb3"
      }
    },
    {
      "cell_type": "code",
      "source": [
        "!cat R1.fastq"
      ],
      "metadata": {
        "colab": {
          "base_uri": "https://localhost:8080/"
        },
        "id": "aHCq6JOyErno",
        "outputId": "7f9b8cc2-ee0e-4649-9fed-cb1f193adf9b"
      },
      "execution_count": 5,
      "outputs": [
        {
          "output_type": "stream",
          "name": "stdout",
          "text": [
            "@read1\n",
            "GTGTCAAAAAAAAAACCCGTCCCGTGTCTCTGGGGGGGGGGGGGGG\n",
            "+\n",
            "CCCFFFFFHHHGGJJJJGGJJJJJJJJJJJJJJJJJJJJJIJIIGJ\n",
            "@read2\n",
            "AAGGAAAAAAAAAAATTTTTTTTTTTTTTTTCCCCCCCCGGGGGCG\n",
            "+\n",
            "CCCCFFFHHHHJGJJJJJGJJJGJJJJJJJJJJJJJJJJJJJJJJJ\n",
            "@read3\n",
            "GTGTGAAAAATAAAAAAACCCGTCCCGTGTCTCTGGGGGGGCCCGT\n",
            "+\n",
            "CCCFFFFHHHHGGGGJJGGJJJJJJJJJJJJJJJJJJJJJIJIIGJ\n",
            "@read4\n",
            "AAAAAAAAAAATTTTTAAAAAAATAAAAATTTAAAAAAAAAAAAAA\n",
            "+\n",
            "CCCFFFFHHHHGGGGJJGGJJJJJJJJJJJJJJJJJJJJJIJIIGJ\n"
          ]
        }
      ]
    },
    {
      "cell_type": "markdown",
      "source": [
        "## R2.fastq"
      ],
      "metadata": {
        "id": "BLhZPFS7EmQ3"
      }
    },
    {
      "cell_type": "code",
      "source": [
        "!cat R2.fastq"
      ],
      "metadata": {
        "colab": {
          "base_uri": "https://localhost:8080/"
        },
        "id": "AYE3fWX0EsQv",
        "outputId": "c7d6a672-1d23-4144-e959-116d333b45d1"
      },
      "execution_count": 6,
      "outputs": [
        {
          "output_type": "stream",
          "name": "stdout",
          "text": [
            "@read1\n",
            "ATCGATATAGAGAGATACGAGAGAGAGAGATATCGAGATAGAGAGGGATTAAAAATTCCGAGACCAAAGCGCGAGCGAGAGNNCGANCGGACTTTTNAAA\n",
            "+\n",
            "CCCFFFFFHHHHHJJJJJJJJJJJJJJJJJJJJJJJJJJJJJJJJJJJJJJJJJJJJJJJJJJJJJJJJJHHHHHHFFFDD!!DDD!DDDDDDEDD!DDD\n",
            "@read2\n",
            "ATGGATTTAGCCCGATCCGGGTGGGAGAGATATCGAGATAGAGAGGGATATCCGGGTGGGAGAGATATATCCGGGTGGGAGAGATATGGGAGAGAGGTGG\n",
            "+\n",
            "CCCFFFFHHHHHHGJGJJJJJJGJJJJJJJJJJJJJJJJJJJJJJJJJJJJJJJJJJJJJJJJJJJJJJJHHHHHHFFFFDDDDDDDDDDDDDEDDDDDD\n",
            "@read3\n",
            "TTCGATATAGAGAGATACGAGAGAGAGAGATATCGAGATAGAGAGGGATTAAAAATTCCGAGACCAAAGCGCGAGCGAGAGGGCGACCGGACTTTTTAAA\n",
            "+\n",
            "CCCFFFFFHHHHHJJJJJJJJJJJJJJJJJJJJJJJJJJJJJJJJJJJJJJJJJJJJJJJJJJJJJJJJJHHHHHHFFFDDDDDDDDDDDDDDEDDEDDD\n",
            "@read4\n",
            "TATCGAGATAGAGAGGGGAGAGATATCGAGATAGAGAGGGATTAAAAATTCCGAGACCAAAGCGCGAGCGAGAGGGCGACCGGACTTTTTAAAAAAAAAA\n",
            "+\n",
            "CCCFFFFFHHHHHJJJJJJJJJJJJJJJJJJJJJJJJJJJJJJJJJJJJJJJJJJJJJJJJJJJJJJJJJHHHHHHFFFDDDDDDDDDDDDDDEDDDDDD\n"
          ]
        }
      ]
    },
    {
      "cell_type": "markdown",
      "source": [
        "# Run splitcode"
      ],
      "metadata": {
        "id": "YBrpu5O7ELGo"
      }
    },
    {
      "cell_type": "code",
      "source": [
        "!splitcode -c config.txt --nFastqs=2 --assign --pipe --mapping=mapping.txt R1.fastq R2.fastq"
      ],
      "metadata": {
        "colab": {
          "base_uri": "https://localhost:8080/"
        },
        "id": "TixolM83D_Gl",
        "outputId": "c60f7031-5e89-4201-c844-8e794ba7ce7e"
      },
      "execution_count": 7,
      "outputs": [
        {
          "output_type": "stream",
          "name": "stdout",
          "text": [
            "@read1\n",
            "AAAAAAAAAAAAAAAA\n",
            "+\n",
            "KKKKKKKKKKKKKKKK\n",
            "@read1\n",
            "GTGTCTCT\n",
            "+\n",
            "KKKKKKKK\n",
            "@read1\n",
            "GTGTCAAAAAAAAAACCCGTCCCGTGTCTCTGGGGGGGGGGGGGGG\n",
            "+\n",
            "CCCFFFFFHHHGGJJJJGGJJJJJJJJJJJJJJJJJJJJJIJIIGJ\n",
            "@read1\n",
            "ATCGATATAGAGAGATACGAGAGAGAGAGATATCGAGATAGAGAGGGATTAAAAATTCCGAGACCAAAGCGCGAGCGAGAGNNCGANCGGACTTTT\n",
            "+\n",
            "CCCFFFFFHHHHHJJJJJJJJJJJJJJJJJJJJJJJJJJJJJJJJJJJJJJJJJJJJJJJJJJJJJJJJJHHHHHHFFFDD!!DDD!DDDDDDEDD\n",
            "@read2\n",
            "AAAAAAAAAAAAAAAC\n",
            "+\n",
            "KKKKKKKKKKKKKKKK\n",
            "@read2\n",
            "\n",
            "+\n",
            "\n",
            "@read2\n",
            "AAGGAAAAAAAAAAATTTTTTTTTTTTTTTTCCCCCCCCGGGGGCG\n",
            "+\n",
            "CCCCFFFHHHHJGJJJJJGJJJGJJJJJJJJJJJJJJJJJJJJJJJ\n",
            "@read2\n",
            "ATGGATTTAGCCCGATCCGGGTGGGAGAGATATCGAGATAGAGAGGGATATCCGGGTGGGAGAGATATATCCGGGTGGGAGAGATATGGGAGAGAG\n",
            "+\n",
            "CCCFFFFHHHHHHGJGJJJJJJGJJJJJJJJJJJJJJJJJJJJJJJJJJJJJJJJJJJJJJJJJJJJJJJHHHHHHFFFFDDDDDDDDDDDDDEDD\n",
            "@read3\n",
            "AAAAAAAAAAAAAAAA\n",
            "+\n",
            "KKKKKKKKKKKKKKKK\n",
            "@read3\n",
            "GTGTCTCT\n",
            "+\n",
            "KKKKKKKK\n",
            "@read3\n",
            "GTGTGAAAAATAAAAAAACCCGTCCCGTGTCTCTGGGGGGGCCCGT\n",
            "+\n",
            "CCCFFFFHHHHGGGGJJGGJJJJJJJJJJJJJJJJJJJJJIJIIGJ\n",
            "@read3\n",
            "TTCGATATAGAGAGATACGAGAGAGAGAGATATCGAGATAGAGAGGGATTAAAAATTCCGAGACCAAAGCGCGAGCGAGAGGGCGACCGGACTTTT\n",
            "+\n",
            "CCCFFFFFHHHHHJJJJJJJJJJJJJJJJJJJJJJJJJJJJJJJJJJJJJJJJJJJJJJJJJJJJJJJJJHHHHHHFFFDDDDDDDDDDDDDDEDD\n"
          ]
        }
      ]
    }
  ]
}
